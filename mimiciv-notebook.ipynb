{
 "cells": [
  {
   "cell_type": "code",
   "execution_count": null,
   "id": "132f3a00",
   "metadata": {},
   "outputs": [],
   "source": [
    "!pip install awswrangler"
   ]
  },
  {
   "cell_type": "code",
   "execution_count": null,
   "id": "2ee7f8c4",
   "metadata": {},
   "outputs": [],
   "source": [
    "import awswrangler as wr\n",
    "\n",
    "df = wr.athena.read_sql_query(\"SELECT * from ADMISSIONS\", database=\"mimiciv\")\n",
    "df"
   ]
  }
 ],
 "metadata": {
  "kernelspec": {
   "display_name": "Python 3.9.7 64-bit ('3.9.7')",
   "language": "python",
   "name": "python3"
  },
  "language_info": {
   "codemirror_mode": {
    "name": "ipython",
    "version": 3
   },
   "file_extension": ".py",
   "mimetype": "text/x-python",
   "name": "python",
   "nbconvert_exporter": "python",
   "pygments_lexer": "ipython3",
   "version": "3.9.7"
  },
  "vscode": {
   "interpreter": {
    "hash": "8dd4a9027f561a0023857f4640bc54d91ed591d3caf9c5743307b8f6a9989ef9"
   }
  }
 },
 "nbformat": 4,
 "nbformat_minor": 5
}
